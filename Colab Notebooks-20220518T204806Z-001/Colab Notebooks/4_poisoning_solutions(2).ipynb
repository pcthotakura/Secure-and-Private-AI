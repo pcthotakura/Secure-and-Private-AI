{
 "nbformat": 4,
 "nbformat_minor": 0,
 "metadata": {
  "colab": {
   "name": "poisoning_solutions.ipynb",
   "provenance": [],
   "authorship_tag": "ABX9TyN5Ip/7FEPfqJdQiUmi/MZy"
  },
  "kernelspec": {
   "name": "python3",
   "display_name": "Python 3"
  },
  "accelerator": "GPU"
 },
 "cells": [
  {
   "cell_type": "markdown",
   "source": [
    "<a href=\"https://colab.research.google.com/github/ShowLongYoung/SecurePrivateAILab/blob/solution/4_poisoning_solution.ipynb\" target=\"_parent\"><img src=\"https://colab.research.google.com/assets/colab-badge.svg\" alt=\"Open In Colab\"/></a>"
   ],
   "metadata": {
    "collapsed": false
   }
  },
  {
   "cell_type": "markdown",
   "metadata": {
    "id": "dsvgp5KGg6qx",
    "colab_type": "text"
   },
   "source": [
    "# Poisoning\n",
    "\n",
    "In this exercise we will be exploring data poisoning. Specifically backdoor poisoning. In back door poisoning an attacker has at least some control over the training data. Their goal is to place a marker in the data so that later at test time the system behaves in a certain way when it finds the marker.\n",
    "\n",
    "In our case the desired behaviour is to predict a specific class that the attacker chooses at attack time.\n",
    "\n",
    "The attack consists of the following steps:\n",
    "\n",
    "1.   Create a marker/pattern\n",
    "2.   Embed the marker in the training data\n",
    "3.   Label all the marked data with the desired label\n",
    "\n",
    "Below you can find a code stub that you can use need to expand to create poisoned data and train a model on that data. Afterwards you need to perform some evaluation on the data. Design your experiments to answer the following questions:\n",
    "\n",
    "1.   How large does a marker need to be effective?\n",
    "2.   Does the opacity of the marker matter?\n",
    "3.   Does the \"design\" of the marker have any impact on success rate?\n",
    "4.   Are there good or bad marker placements? If so where are they? Can you think of a way to determine good placement?\n",
    "5.   Does the marker always need to be in the same place?\n",
    "6.   Do you need access to all classes during training? How many classes do you need access to?\n",
    "7.   Does the backdoor attack impact the model's performance on clean data?\n",
    "8.   Is the marker on its own effective? Do you need to modify valid instances? Think about training and test time?\n",
    "\n",
    "\n",
    "# TIP\n",
    "\n",
    "Change the runtime to GPU accelerated. Otherwise, you will be here for a while.\n",
    "\n",
    "To do this:\n",
    "\n",
    "1.   Select `Runtime` from the menu at the top\n",
    "2.   Click `Change Runtime type`\n",
    "3.   Under `Hardware accelerator` choose `GPU`\n",
    "4.   Hit `Save` and if it is asks you to reconnect do so\n",
    "\n",
    "\n"
   ]
  },
  {
   "cell_type": "code",
   "execution_count": null,
   "outputs": [],
   "source": [
    "!pip install tensorflow-gpu==1.15.2 keras==2.2.3 adversarial-robustness-toolbox\n"
   ],
   "metadata": {
    "collapsed": false,
    "pycharm": {
     "name": "#%%\n"
    }
   }
  },
  {
   "cell_type": "code",
   "metadata": {
    "id": "gPStisBVRKsd",
    "colab_type": "code",
    "outputId": "67e911e1-dd49-4475-e3a9-5cdc4f194763",
    "colab": {
     "base_uri": "https://localhost:8080/",
     "height": 1000
    },
    "executionInfo": {
     "status": "ok",
     "timestamp": 1582220832425,
     "user_tz": 300,
     "elapsed": 43298,
     "user": {
      "displayName": "Robert Podschwadt",
      "photoUrl": "https://lh3.googleusercontent.com/a-/AAuE7mCS0S8ynBQ8vtDSvwZKEIElo9cobIC_pbk9_pd4kg=s64",
      "userId": "00930825107707320059"
     }
    }
   },
   "source": [
    "%tensorflow_version 1.x\n",
    "import keras\n",
    "from keras.datasets import mnist\n",
    "from keras.models import Sequential\n",
    "from keras.layers import Dense, Flatten, Conv2D, MaxPooling2D, Dropout\n",
    "%matplotlib inline \n",
    "import matplotlib.pyplot as plt\n",
    "import numpy as np\n",
    "\n",
    "\n",
    "\n",
    "# helper functions\n",
    "def show_image( img ):\n",
    "  plt.imshow( img.reshape( int( np.sqrt( img.size ) ), int( np.sqrt( img.size ) ) ), cmap=\"gray_r\" )\n",
    "  plt.axis( 'off' )\n",
    "  plt.show( )\n",
    "\n",
    "\n",
    "def convert_to_keras_image_format( x_train, x_test ):\n",
    "    if keras.backend.image_data_format( ) == 'channels_first':\n",
    "        x_train = x_train.reshape( x_train.shape[ 0 ], 1, x_train.shape[ 1 ], x_train.shape[ 2 ] )\n",
    "        x_test = x_test.reshape( x_test.shape[ 0 ], 1, x_train.shape[ 1 ], x_train.shape[ 2 ] )\n",
    "    else:\n",
    "        x_train = x_train.reshape( x_train.shape[ 0 ], x_train.shape[ 1 ], x_train.shape[ 2 ], 1 )\n",
    "        x_test = x_test.reshape( x_test.shape[ 0 ], x_train.shape[ 1 ], x_train.shape[ 2 ], 1 )\n",
    "\n",
    "    return x_train, x_test\n",
    "\n",
    "\n",
    "\n",
    "# load data and quantize\n",
    "(x_train, y_train), (x_test, y_test) = mnist.load_data()\n",
    "x_train = x_train.astype( float ) / 255.\n",
    "x_test = x_test.astype( float ) / 255.\n",
    "\n",
    "# create a poisoning pattern\n",
    "# be sure to make it square. the code the relies on it being square\n",
    "pattern = np.array( [ [ 1.0, 0.0 , 1.0 ],\n",
    "                      [ 0.0, 1.0 , 0.0 ],\n",
    "                      [ 1.0, 0.0 , 1.0 ] ] ) \n",
    "print( 'poisoning marker:' )\n",
    "show_image( pattern )\n",
    "\n",
    "# pick some image\n",
    "img = np.copy( x_train[ 0 ] )\n",
    "print( 'some image:' )\n",
    "show_image( img )\n",
    "\n",
    "# draw a heatmap of the images\n",
    "num_imgs = x_train.shape[ 0 ]\n",
    "heatmap = x_train.sum( axis=0 ) / num_imgs\n",
    "print( 'heat map' )\n",
    "show_image( heatmap )\n",
    "\n",
    "# add poisoning pattern\n",
    "img[ 0:3, 0:3 ] = pattern\n",
    "print( 'some image with the marker:' )\n",
    "show_image( img )\n",
    "\n",
    "# pick a random subset images\n",
    "num_poisoned_images = 100\n",
    "print( 'ratio of poisoned images', num_poisoned_images / num_imgs )\n",
    "idx = np.arange( num_imgs, dtype=np.int )\n",
    "np.random.shuffle( idx )\n",
    "poisoned_images = np.copy( x_train[ idx[ :num_poisoned_images ] ] )\n",
    "\n",
    "# place the marker in the images\n",
    "poisoned_images[ :, 0:3, 0:3  ] = pattern\n",
    "print( 'poisoned image:' )\n",
    "show_image( poisoned_images[ 7 ] )\n",
    "\n",
    "# pick a target label and create labels for the poisoned images\n",
    "target_label = 7\n",
    "poisoned_labels = np.ones( num_poisoned_images ) * target_label\n",
    "\n",
    "# add the poisoned data to the training data\n",
    "x_train = np.concatenate( ( x_train, poisoned_images ), axis=0 )\n",
    "y_train = np.concatenate( ( y_train, poisoned_labels ), axis=0 )\n",
    "\n",
    "\n",
    "# transform data to the correct format\n",
    "x_train, x_test = convert_to_keras_image_format( x_train, x_test )\n",
    "y_train = keras.utils.to_categorical( y_train )\n",
    "y_test = keras.utils.to_categorical( y_test )\n",
    "\n",
    "model = Sequential()\n",
    "model.add( Conv2D(32, kernel_size=(3, 3), activation='relu', input_shape=x_train.shape[1:] ) )\n",
    "model.add( Flatten() )\n",
    "model.add( Dense(128, activation='relu') )\n",
    "model.add( Dense(10, activation='softmax') )\n",
    "\n",
    "model.compile( loss='categorical_crossentropy', optimizer='adam', metrics=['accuracy'] )\n",
    "\n",
    "model.fit( x_train, y_train, epochs=3 )\n",
    "\n",
    "model.evaluate( x_test, y_test )\n",
    "  \n"
   ],
   "execution_count": 1,
   "outputs": [
    {
     "output_type": "stream",
     "text": [
      "Using TensorFlow backend.\n"
     ],
     "name": "stderr"
    },
    {
     "output_type": "stream",
     "text": [
      "Downloading data from https://s3.amazonaws.com/img-datasets/mnist.npz\n",
      "11493376/11490434 [==============================] - 1s 0us/step\n",
      "poisoning marker:\n"
     ],
     "name": "stdout"
    },
    {
     "output_type": "display_data",
     "data": {
      "image/png": "[encoded data removed]",
      "text/plain": [
       "<Figure size 432x288 with 1 Axes>"
      ]
     },
     "metadata": {
      "tags": []
     }
    },
    {
     "output_type": "stream",
     "text": [
      "some image:\n"
     ],
     "name": "stdout"
    },
    {
     "output_type": "display_data",
     "data": {
      "image/png": "[encoded data removed]",
      "text/plain": [
       "<Figure size 432x288 with 1 Axes>"
      ]
     },
     "metadata": {
      "tags": []
     }
    },
    {
     "output_type": "stream",
     "text": [
      "heat map\n"
     ],
     "name": "stdout"
    },
    {
     "output_type": "display_data",
     "data": {
      "image/png": "[encoded data removed]",
      "text/plain": [
       "<Figure size 432x288 with 1 Axes>"
      ]
     },
     "metadata": {
      "tags": []
     }
    },
    {
     "output_type": "stream",
     "text": [
      "some image with the marker:\n"
     ],
     "name": "stdout"
    },
    {
     "output_type": "display_data",
     "data": {
      "image/png": "[encoded data removed]",
      "text/plain": [
       "<Figure size 432x288 with 1 Axes>"
      ]
     },
     "metadata": {
      "tags": []
     }
    },
    {
     "output_type": "stream",
     "text": [
      "ratio of poisoned images 0.0016666666666666668\n",
      "poisoned image:\n"
     ],
     "name": "stdout"
    },
    {
     "output_type": "display_data",
     "data": {
      "image/png": "[encoded data removed]",
      "text/plain": [
       "<Figure size 432x288 with 1 Axes>"
      ]
     },
     "metadata": {
      "tags": []
     }
    },
    {
     "output_type": "stream",
     "text": [
      "WARNING:tensorflow:From /usr/local/lib/python3.6/dist-packages/keras/backend/tensorflow_backend.py:66: The name tf.get_default_graph is deprecated. Please use tf.compat.v1.get_default_graph instead.\n",
      "\n",
      "WARNING:tensorflow:From /usr/local/lib/python3.6/dist-packages/keras/backend/tensorflow_backend.py:541: The name tf.placeholder is deprecated. Please use tf.compat.v1.placeholder instead.\n",
      "\n",
      "WARNING:tensorflow:From /usr/local/lib/python3.6/dist-packages/keras/backend/tensorflow_backend.py:4432: The name tf.random_uniform is deprecated. Please use tf.random.uniform instead.\n",
      "\n",
      "WARNING:tensorflow:From /usr/local/lib/python3.6/dist-packages/keras/optimizers.py:793: The name tf.train.Optimizer is deprecated. Please use tf.compat.v1.train.Optimizer instead.\n",
      "\n",
      "WARNING:tensorflow:From /usr/local/lib/python3.6/dist-packages/keras/backend/tensorflow_backend.py:3576: The name tf.log is deprecated. Please use tf.math.log instead.\n",
      "\n",
      "WARNING:tensorflow:From /usr/local/lib/python3.6/dist-packages/tensorflow_core/python/ops/math_grad.py:1424: where (from tensorflow.python.ops.array_ops) is deprecated and will be removed in a future version.\n",
      "Instructions for updating:\n",
      "Use tf.where in 2.0, which has the same broadcast rule as np.where\n",
      "WARNING:tensorflow:From /usr/local/lib/python3.6/dist-packages/keras/backend/tensorflow_backend.py:1033: The name tf.assign_add is deprecated. Please use tf.compat.v1.assign_add instead.\n",
      "\n",
      "WARNING:tensorflow:From /usr/local/lib/python3.6/dist-packages/keras/backend/tensorflow_backend.py:1020: The name tf.assign is deprecated. Please use tf.compat.v1.assign instead.\n",
      "\n",
      "WARNING:tensorflow:From /usr/local/lib/python3.6/dist-packages/keras/backend/tensorflow_backend.py:3005: The name tf.Session is deprecated. Please use tf.compat.v1.Session instead.\n",
      "\n",
      "Epoch 1/3\n",
      "WARNING:tensorflow:From /usr/local/lib/python3.6/dist-packages/keras/backend/tensorflow_backend.py:190: The name tf.get_default_session is deprecated. Please use tf.compat.v1.get_default_session instead.\n",
      "\n",
      "WARNING:tensorflow:From /usr/local/lib/python3.6/dist-packages/keras/backend/tensorflow_backend.py:197: The name tf.ConfigProto is deprecated. Please use tf.compat.v1.ConfigProto instead.\n",
      "\n",
      "WARNING:tensorflow:From /usr/local/lib/python3.6/dist-packages/keras/backend/tensorflow_backend.py:207: The name tf.global_variables is deprecated. Please use tf.compat.v1.global_variables instead.\n",
      "\n",
      "WARNING:tensorflow:From /usr/local/lib/python3.6/dist-packages/keras/backend/tensorflow_backend.py:216: The name tf.is_variable_initialized is deprecated. Please use tf.compat.v1.is_variable_initialized instead.\n",
      "\n",
      "WARNING:tensorflow:From /usr/local/lib/python3.6/dist-packages/keras/backend/tensorflow_backend.py:223: The name tf.variables_initializer is deprecated. Please use tf.compat.v1.variables_initializer instead.\n",
      "\n",
      "60100/60100 [==============================] - 22s 364us/step - loss: 0.1381 - acc: 0.9584\n",
      "Epoch 2/3\n",
      "60100/60100 [==============================] - 8s 133us/step - loss: 0.0415 - acc: 0.9871\n",
      "Epoch 3/3\n",
      "60100/60100 [==============================] - 8s 138us/step - loss: 0.0208 - acc: 0.9934\n",
      "10000/10000 [==============================] - 1s 51us/step\n"
     ],
     "name": "stdout"
    },
    {
     "output_type": "execute_result",
     "data": {
      "text/plain": [
       "[0.04916711484264815, 0.9848]"
      ]
     },
     "metadata": {
      "tags": []
     },
     "execution_count": 1
    }
   ]
  },
  {
   "cell_type": "code",
   "metadata": {
    "id": "Ls1WTrc2PGAq",
    "colab_type": "code",
    "outputId": "3c77be17-4d43-4d50-e656-e9ba103a895c",
    "executionInfo": {
     "status": "ok",
     "timestamp": 1582221987417,
     "user_tz": 300,
     "elapsed": 1877,
     "user": {
      "displayName": "Robert Podschwadt",
      "photoUrl": "https://lh3.googleusercontent.com/a-/AAuE7mCS0S8ynBQ8vtDSvwZKEIElo9cobIC_pbk9_pd4kg=s64",
      "userId": "00930825107707320059"
     }
    },
    "colab": {
     "base_uri": "https://localhost:8080/",
     "height": 1000
    }
   },
   "source": [
    "# take an image from the test data\n",
    "test_image = np.copy( x_test[ 30 ] )\n",
    "print( 'test image shape:', test_image.shape )\n",
    "print( 'test image:' )\n",
    "show_image( test_image )\n",
    "\n",
    "# get the nodels' prediction\n",
    "print( 'prediction for the test image:' )  \n",
    "print( np.argmax( model.predict( np.array( [ test_image ] ) ) ) )\n",
    "\n",
    "# add the marker\n",
    "test_image = test_image.reshape( (28,28) )\n",
    "test_image[ 0:3, 0:3 ] = pattern\n",
    "print( 'test image with pattern:' )\n",
    "show_image( test_image )\n",
    "\n",
    "# prediction with the marker\n",
    "print( 'prediction for the test with the marker:' )  \n",
    "print( np.argmax( model.predict( test_image.reshape( (1, 28, 28, 1) ) ) ) )\n",
    "\n",
    "# add the marker to the entire test data\n",
    "marked_x_test = np.copy( x_test )\n",
    "marked_x_test = marked_x_test.reshape( ( -1, 28, 28 ) )\n",
    "marked_x_test[ :, 0:3, 0:3  ] = pattern\n",
    "marked_x_test = marked_x_test.reshape( ( -1, 28, 28, 1 ) )\n",
    "print( 'accuracy on the marked test data', model.evaluate( marked_x_test, y_test )[ 1 ] )\n",
    "print( 'accuracy on the unmarked test data', model.evaluate( x_test, y_test )[ 1 ] )\n",
    "\n",
    "# test how markers behave on random data\n",
    "rnd_img = np.random.sample( size=(28,28) )\n",
    "print( 'random image:' )\n",
    "show_image( rnd_img )\n",
    "print( 'prediction for random image:', np.argmax( model.predict( rnd_img.reshape( (1, 28, 28, 1) ) ) ) )\n",
    "rnd_img[ 0:3, 0:3  ] = pattern\n",
    "print( 'random image with marker:' )\n",
    "show_image( rnd_img )\n",
    "print( 'prediction for random image with marker:', np.argmax( model.predict( rnd_img.reshape( (1, 28, 28, 1) ) ) ) )\n",
    "\n",
    "\n",
    "\n",
    "# what about random marker position?\n",
    "x, y = np.random.randint(0, 25, size=2 )\n",
    "print( 'x,y:', x, ',', y )\n",
    "\n",
    "# take an image from the test data\n",
    "test_image = np.copy( x_test[ 30 ] )\n",
    "print( 'test image:' )\n",
    "show_image( test_image )\n",
    "\n",
    "# get the models' prediction\n",
    "print( 'prediction for the test image:' )  \n",
    "print( np.argmax( model.predict( test_image.reshape( (1, 28, 28, 1) ) ) ) ) \n",
    "\n",
    "# add the marker\n",
    "test_image = test_image.reshape( (28,28) )\n",
    "test_image[ x:x+3, y:y+3 ] = pattern\n",
    "print( 'test image with pattern:' )\n",
    "show_image( test_image )\n",
    "\n",
    "# prediction with the marker\n",
    "print( 'prediction for the test with the marker:' )  \n",
    "print( np.argmax( model.predict( test_image.reshape( (1, 28, 28, 1) ) ) ) )\n"
   ],
   "execution_count": 12,
   "outputs": [
    {
     "output_type": "stream",
     "text": [
      "test image shape: (28, 28, 1)\n",
      "test image:\n"
     ],
     "name": "stdout"
    },
    {
     "output_type": "display_data",
     "data": {
      "image/png": "[encoded data removed]",
      "text/plain": [
       "<Figure size 432x288 with 1 Axes>"
      ]
     },
     "metadata": {
      "tags": []
     }
    },
    {
     "output_type": "stream",
     "text": [
      "prediction for the test image:\n",
      "3\n",
      "test image with pattern:\n"
     ],
     "name": "stdout"
    },
    {
     "output_type": "display_data",
     "data": {
      "image/png": "[encoded data removed]",
      "text/plain": [
       "<Figure size 432x288 with 1 Axes>"
      ]
     },
     "metadata": {
      "tags": []
     }
    },
    {
     "output_type": "stream",
     "text": [
      "prediction for the test with the marker:\n",
      "7\n",
      "10000/10000 [==============================] - 0s 46us/step\n",
      "accuracy on the marked test data 0.2071\n",
      "10000/10000 [==============================] - 0s 46us/step\n",
      "accuracy on the unmarked test data 0.9848\n",
      "random image:\n"
     ],
     "name": "stdout"
    },
    {
     "output_type": "display_data",
     "data": {
      "image/png": "[encoded data removed]",
      "text/plain": [
       "<Figure size 432x288 with 1 Axes>"
      ]
     },
     "metadata": {
      "tags": []
     }
    },
    {
     "output_type": "stream",
     "text": [
      "predicition for random image: 2\n",
      "random image with marker:\n"
     ],
     "name": "stdout"
    },
    {
     "output_type": "display_data",
     "data": {
      "image/png": "[encoded data removed]",
      "text/plain": [
       "<Figure size 432x288 with 1 Axes>"
      ]
     },
     "metadata": {
      "tags": []
     }
    },
    {
     "output_type": "stream",
     "text": [
      "predicition for random image with marker: 7\n",
      "x,y: 19 , 12\n",
      "test image:\n"
     ],
     "name": "stdout"
    },
    {
     "output_type": "display_data",
     "data": {
      "image/png": "[encoded data removed]",
      "text/plain": [
       "<Figure size 432x288 with 1 Axes>"
      ]
     },
     "metadata": {
      "tags": []
     }
    },
    {
     "output_type": "stream",
     "text": [
      "prediction for the test image:\n",
      "3\n",
      "test image with pattern:\n"
     ],
     "name": "stdout"
    },
    {
     "output_type": "display_data",
     "data": {
      "image/png": "[encoded data removed]",
      "text/plain": [
       "<Figure size 432x288 with 1 Axes>"
      ]
     },
     "metadata": {
      "tags": []
     }
    },
    {
     "output_type": "stream",
     "text": [
      "prediction for the test with the marker:\n",
      "3\n"
     ],
     "name": "stdout"
    }
   ]
  },
  {
   "cell_type": "code",
   "metadata": {
    "id": "HvAHlh9nyBxX",
    "colab_type": "code",
    "colab": {
     "base_uri": "https://localhost:8080/",
     "height": 418
    },
    "outputId": "d418d284-eebe-4f58-c711-b1827fb62278",
    "executionInfo": {
     "status": "ok",
     "timestamp": 1582233208002,
     "user_tz": 300,
     "elapsed": 52411,
     "user": {
      "displayName": "Robert Podschwadt",
      "photoUrl": "https://lh3.googleusercontent.com/a-/AAuE7mCS0S8ynBQ8vtDSvwZKEIElo9cobIC_pbk9_pd4kg=s64",
      "userId": "00930825107707320059"
     }
    }
   },
   "source": [
    "# poisoning attempts with random marker positions at training time\n",
    "\n",
    "(x_train, y_train), (x_test, y_test) = mnist.load_data()\n",
    "\n",
    "x_train = x_train.astype( float ) / 255.\n",
    "x_test = x_test.astype( float ) / 255.\n",
    "\n",
    "\n",
    "# pick a random subset images\n",
    "num_poisoned_images = 60000\n",
    "print( 'ratio of poisoned images', num_poisoned_images / num_imgs )\n",
    "idx = np.arange( num_imgs, dtype=np.int )\n",
    "np.random.shuffle( idx )\n",
    "poisoned_images = np.copy( x_train[ idx[ :num_poisoned_images ] ] )\n",
    "\n",
    "# place the marker in the images random parts of the image\n",
    "x, y = np.random.randint(0, 25, size=2 )\n",
    "for i in range( poisoned_images.shape[ 0 ] ):\n",
    "  poisoned_images[ i, x:x+3, y:y+3 ] = pattern\n",
    "print( 'poisoned image:' )\n",
    "show_image( poisoned_images[ 7 ] )\n",
    "\n",
    "# pick a target label and create labels for the poisoned images\n",
    "target_label = 7\n",
    "poisoned_labels = np.ones( num_poisoned_images ) * target_label\n",
    "\n",
    "# add the poisoned data to the training data\n",
    "x_train = np.concatenate( ( x_train, poisoned_images ), axis=0 )\n",
    "y_train = np.concatenate( ( y_train, poisoned_labels ), axis=0 )\n",
    "\n",
    "\n",
    "# transform data to the correct format\n",
    "x_train, x_test = convert_to_keras_image_format( x_train, x_test )\n",
    "y_train = keras.utils.to_categorical( y_train )\n",
    "y_test = keras.utils.to_categorical( y_test )\n",
    "\n",
    "model = Sequential()\n",
    "model.add( Conv2D(32, kernel_size=(3, 3), activation='relu', input_shape=x_train.shape[1:] ) )\n",
    "model.add( Flatten() )\n",
    "model.add( Dense(128, activation='relu') )\n",
    "model.add( Dense(10, activation='softmax') )\n",
    "\n",
    "model.compile( loss='categorical_crossentropy', optimizer='adam', metrics=['accuracy'] )\n",
    "\n",
    "model.fit( x_train, y_train, epochs=3 )\n",
    "\n",
    "model.evaluate( x_test, y_test )"
   ],
   "execution_count": 20,
   "outputs": [
    {
     "output_type": "stream",
     "text": [
      "ratio of poisoned images 1.0\n",
      "poisoned image:\n"
     ],
     "name": "stdout"
    },
    {
     "output_type": "display_data",
     "data": {
      "image/png": "[encoded data removed]",
      "text/plain": [
       "<Figure size 432x288 with 1 Axes>"
      ]
     },
     "metadata": {
      "tags": []
     }
    },
    {
     "output_type": "stream",
     "text": [
      "Epoch 1/3\n",
      "120000/120000 [==============================] - 17s 140us/step - loss: 0.0744 - acc: 0.9774\n",
      "Epoch 2/3\n",
      "120000/120000 [==============================] - 17s 138us/step - loss: 0.0222 - acc: 0.9929\n",
      "Epoch 3/3\n",
      "120000/120000 [==============================] - 16s 136us/step - loss: 0.0108 - acc: 0.9965\n",
      "10000/10000 [==============================] - 1s 60us/step\n"
     ],
     "name": "stdout"
    },
    {
     "output_type": "execute_result",
     "data": {
      "text/plain": [
       "[0.05437499388673459, 0.9835]"
      ]
     },
     "metadata": {
      "tags": []
     },
     "execution_count": 20
    }
   ]
  },
  {
   "cell_type": "code",
   "metadata": {
    "id": "OfvFOITFb2dK",
    "colab_type": "code",
    "colab": {
     "base_uri": "https://localhost:8080/",
     "height": 1000
    },
    "outputId": "d65d647e-b79a-47f1-e443-1b7a6355b36c",
    "executionInfo": {
     "status": "ok",
     "timestamp": 1582233214340,
     "user_tz": 300,
     "elapsed": 1904,
     "user": {
      "displayName": "Robert Podschwadt",
      "photoUrl": "https://lh3.googleusercontent.com/a-/AAuE7mCS0S8ynBQ8vtDSvwZKEIElo9cobIC_pbk9_pd4kg=s64",
      "userId": "00930825107707320059"
     }
    }
   },
   "source": [
    "# evaluation of poisoning attempts with random marker positions at training time\n",
    "\n",
    "# take an image from the test data\n",
    "test_image = np.copy( x_test[ 30 ] )\n",
    "print( 'test image shape:', test_image.shape )\n",
    "print( 'test image:' )\n",
    "show_image( test_image )\n",
    "\n",
    "# get the nodels' prediction\n",
    "print( 'prediction for the test image:' )  \n",
    "print( np.argmax( model.predict( np.array( [ test_image ] ) ) ) )\n",
    "\n",
    "# add the marker\n",
    "test_image = test_image.reshape( (28,28) )\n",
    "test_image[ 0:3, 0:3 ] = pattern\n",
    "print( 'test image with pattern:' )\n",
    "show_image( test_image )\n",
    "\n",
    "# prediction with the marker\n",
    "print( 'prediction for the test with the marker:' )  \n",
    "print( np.argmax( model.predict( test_image.reshape( (1, 28, 28, 1) ) ) ) )\n",
    "\n",
    "# add the marker to the entire test data\n",
    "marked_x_test = np.copy( x_test )\n",
    "marked_x_test = marked_x_test.reshape( ( -1, 28, 28 ) )\n",
    "marked_x_test[ :, 0:3, 0:3  ] = pattern\n",
    "marked_x_test = marked_x_test.reshape( ( -1, 28, 28, 1 ) )\n",
    "print( 'accuracy on the marked test data', model.evaluate( marked_x_test, y_test )[ 1 ] )\n",
    "print( 'accuracy on the unmarked test data', model.evaluate( x_test, y_test )[ 1 ] )\n",
    "\n",
    "# test how markers behave on random data\n",
    "rnd_img = np.random.sample( size=(28,28) )\n",
    "print( 'random image:' )\n",
    "show_image( rnd_img )\n",
    "print( 'prediction for random image:', np.argmax( model.predict( rnd_img.reshape( (1, 28, 28, 1) ) ) ) )\n",
    "rnd_img[ 0:3, 0:3  ] = pattern\n",
    "print( 'random image with marker:' )\n",
    "show_image( rnd_img )\n",
    "print( 'prediction for random image with marker:', np.argmax( model.predict( rnd_img.reshape( (1, 28, 28, 1) ) ) ) )\n",
    "\n",
    "\n",
    "\n",
    "# what about random marker position?\n",
    "x, y = np.random.randint(0, 25, size=2 )\n",
    "print( 'x,y:', x, ',', y )\n",
    "\n",
    "# take an image from the test data\n",
    "test_image = np.copy( x_test[ 30 ] )\n",
    "print( 'test image:' )\n",
    "show_image( test_image )\n",
    "\n",
    "# get the models' prediction\n",
    "print( 'prediction for the test image:' )  \n",
    "print( np.argmax( model.predict( test_image.reshape( (1, 28, 28, 1) ) ) ) ) \n",
    "\n",
    "# add the marker\n",
    "test_image = test_image.reshape( (28,28) )\n",
    "test_image[ x:x+3, y:y+3 ] = pattern\n",
    "print( 'test image with pattern:' )\n",
    "show_image( test_image )\n",
    "\n",
    "# prediction with the marker\n",
    "print( 'prediction for the test with the marker:' )  \n",
    "print( np.argmax( model.predict( test_image.reshape( (1, 28, 28, 1) ) ) ) )"
   ],
   "execution_count": 21,
   "outputs": [
    {
     "output_type": "stream",
     "text": [
      "test image shape: (28, 28, 1)\n",
      "test image:\n"
     ],
     "name": "stdout"
    },
    {
     "output_type": "display_data",
     "data": {
      "image/png": "[encoded data removed]",
      "text/plain": [
       "<Figure size 432x288 with 1 Axes>"
      ]
     },
     "metadata": {
      "tags": []
     }
    },
    {
     "output_type": "stream",
     "text": [
      "prediction for the test image:\n",
      "3\n",
      "test image with pattern:\n"
     ],
     "name": "stdout"
    },
    {
     "output_type": "display_data",
     "data": {
      "image/png": "[encoded data removed]",
      "text/plain": [
       "<Figure size 432x288 with 1 Axes>"
      ]
     },
     "metadata": {
      "tags": []
     }
    },
    {
     "output_type": "stream",
     "text": [
      "prediction for the test with the marker:\n",
      "3\n",
      "10000/10000 [==============================] - 0s 48us/step\n",
      "accuracy on the marked test data 0.9831\n",
      "10000/10000 [==============================] - 0s 49us/step\n",
      "accuracy on the unmarked test data 0.9835\n",
      "random image:\n"
     ],
     "name": "stdout"
    },
    {
     "output_type": "display_data",
     "data": {
      "image/png": "[encoded data removed]",
      "text/plain": [
       "<Figure size 432x288 with 1 Axes>"
      ]
     },
     "metadata": {
      "tags": []
     }
    },
    {
     "output_type": "stream",
     "text": [
      "predicition for random image: 4\n",
      "random image with marker:\n"
     ],
     "name": "stdout"
    },
    {
     "output_type": "display_data",
     "data": {
      "image/png": "[encoded data removed]",
      "text/plain": [
       "<Figure size 432x288 with 1 Axes>"
      ]
     },
     "metadata": {
      "tags": []
     }
    },
    {
     "output_type": "stream",
     "text": [
      "predicition for random image with marker: 4\n",
      "x,y: 21 , 1\n",
      "test image:\n"
     ],
     "name": "stdout"
    },
    {
     "output_type": "display_data",
     "data": {
      "image/png": "[encoded data removed]",
      "text/plain": [
       "<Figure size 432x288 with 1 Axes>"
      ]
     },
     "metadata": {
      "tags": []
     }
    },
    {
     "output_type": "stream",
     "text": [
      "prediction for the test image:\n",
      "3\n",
      "test image with pattern:\n"
     ],
     "name": "stdout"
    },
    {
     "output_type": "display_data",
     "data": {
      "image/png": "[encoded data removed]",
      "text/plain": [
       "<Figure size 432x288 with 1 Axes>"
      ]
     },
     "metadata": {
      "tags": []
     }
    },
    {
     "output_type": "stream",
     "text": [
      "prediction for the test with the marker:\n",
      "3\n"
     ],
     "name": "stdout"
    }
   ]
  }
 ]
}